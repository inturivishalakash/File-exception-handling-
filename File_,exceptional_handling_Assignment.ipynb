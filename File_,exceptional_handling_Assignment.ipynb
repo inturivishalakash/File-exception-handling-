{
  "nbformat": 4,
  "nbformat_minor": 0,
  "metadata": {
    "colab": {
      "provenance": []
    },
    "kernelspec": {
      "name": "python3",
      "display_name": "Python 3"
    },
    "language_info": {
      "name": "python"
    }
  },
  "cells": [
    {
      "cell_type": "markdown",
      "source": [
        "#Files, exceptional handling, logging and memory management Questions"
      ],
      "metadata": {
        "id": "taa6a0icQI5Y"
      }
    },
    {
      "cell_type": "markdown",
      "source": [
        "1. What is the difference between interpreted and compiled languages?"
      ],
      "metadata": {
        "id": "OSSTyXFUQa7G"
      }
    },
    {
      "cell_type": "markdown",
      "source": [
        " Ans 1 .\n",
        " 1. Compiled Languages\n",
        "\n",
        "--Definition: The code is translated (compiled) into machine code (binary) by a compiler before execution.\n",
        "\n",
        "--Examples: C, C++, Rust, Go, Java (partly – compiles to bytecode).\n",
        "\n",
        "--Execution Process:\n",
        "\n",
        ">>You write source code (.c, .cpp, etc.).\n",
        "\n",
        ">>A compiler converts it into a standalone executable (.exe, .out).\n",
        "\n",
        ">>The executable runs directly on the CPU.\n",
        "\n",
        "--Pros:\n",
        "\n",
        ">>Very fast execution (since already machine code).\n",
        "\n",
        ">>Optimizations done by compiler improve performance.\n",
        "\n",
        ">>No need for source code when distributing software (just the executable).\n",
        "\n",
        "--Cons:\n",
        "\n",
        ">>Compilation step takes time.\n",
        "\n",
        ">>Less flexible (you must recompile after any code change).\n",
        "\n",
        ">>Debugging can be harder."
      ],
      "metadata": {
        "id": "nuXtdsRiQkjU"
      }
    },
    {
      "cell_type": "markdown",
      "source": [
        "2.What is exception handling in Python?"
      ],
      "metadata": {
        "id": "JbBsP67VR4zw"
      }
    },
    {
      "cell_type": "markdown",
      "source": [
        "Ans 2.An exception is an error that occurs during the execution of a program and disrupts its normal flow."
      ],
      "metadata": {
        "id": "xG7C4ftrR8ua"
      }
    },
    {
      "cell_type": "markdown",
      "source": [
        "3.What is the purpose of the finally block in exception handling?"
      ],
      "metadata": {
        "id": "bPIie6TPSKCe"
      }
    },
    {
      "cell_type": "markdown",
      "source": [
        "Ans 3. The finally block is used in exception handling to write code that must run no matter what — whether an exception occurs or not."
      ],
      "metadata": {
        "id": "kBMOyUPESVzv"
      }
    },
    {
      "cell_type": "markdown",
      "source": [
        "4.What is logging in Python?"
      ],
      "metadata": {
        "id": "Q5q57G1zSZkF"
      }
    },
    {
      "cell_type": "markdown",
      "source": [
        "Ans 4 . Logging means recording (logging) information about your program’s execution.\n",
        "\n",
        "It helps developers:\n",
        "\n",
        ">>Debug issues\n",
        "\n",
        ">>Track events\n",
        "\n",
        ">>Monitor what the program is doing\n",
        "\n",
        ">>Keep permanent records (e.g., saving errors to a log file)\n",
        "\n",
        "Instead of using print() (which is temporary and not flexible), we use the logging module."
      ],
      "metadata": {
        "id": "FRpi-d4bSlrR"
      }
    },
    {
      "cell_type": "markdown",
      "source": [
        "5.What is the significance of the __del__ method in Python?"
      ],
      "metadata": {
        "id": "UmbEyZ8bSuUF"
      }
    },
    {
      "cell_type": "markdown",
      "source": [
        "Ans 5. __del__ is a destructor method in Python.\n",
        "\n",
        "It is called automatically when an object is about to be destroyed (i.e., when it is garbage collected)."
      ],
      "metadata": {
        "id": "I3OGzjKoS0Sq"
      }
    },
    {
      "cell_type": "markdown",
      "source": [
        "6.What is the difference between import and from ... import in Python?"
      ],
      "metadata": {
        "id": "qdKPoU3VS9kl"
      }
    },
    {
      "cell_type": "markdown",
      "source": [
        "Ans 6.\n",
        "1. import\n",
        "\n",
        ">>Imports the whole module.\n",
        "\n",
        ">>You must use the module name (prefix) to access its functions, classes, or variables.\n",
        "\n",
        "2. from ... import\n",
        "\n",
        ">>Imports specific functions, classes, or variables from a module.\n",
        "\n",
        ">>You can use them directly without prefixing the module name."
      ],
      "metadata": {
        "id": "Hgq-cLnMTFPN"
      }
    },
    {
      "cell_type": "markdown",
      "source": [
        "7.How can you handle multiple exceptions in Python?"
      ],
      "metadata": {
        "id": "ZAr5pY1eTco8"
      }
    },
    {
      "cell_type": "markdown",
      "source": [
        "Ans 7.You can have one try block with multiple except blocks, each handling a different exception type."
      ],
      "metadata": {
        "id": "u3PdPp_cTzoS"
      }
    },
    {
      "cell_type": "code",
      "source": [
        "#Ans 7.\n",
        "try:\n",
        "    num = int(\"abc\")   # ValueError\n",
        "    result = 10 / 0    # ZeroDivisionError\n",
        "except ValueError:\n",
        "    print(\"Invalid number format\")\n",
        "except ZeroDivisionError:\n",
        "    print(\"You cannot divide by zero\")\n"
      ],
      "metadata": {
        "colab": {
          "base_uri": "https://localhost:8080/"
        },
        "id": "XmhrGhdxT2Yy",
        "outputId": "0664f907-d187-4b89-c262-ab565fa2ae2e"
      },
      "execution_count": 1,
      "outputs": [
        {
          "output_type": "stream",
          "name": "stdout",
          "text": [
            "Invalid number format\n"
          ]
        }
      ]
    },
    {
      "cell_type": "markdown",
      "source": [
        "8.What is the purpose of the with statement when handling files in Python?"
      ],
      "metadata": {
        "id": "xGBupdlnUEni"
      }
    },
    {
      "cell_type": "markdown",
      "source": [
        "Ans 8.The with statement in Python is used to open and manage files (or resources) in a safe and clean way.\n",
        "It makes sure that the file is automatically closed after the block of code is executed — even if an error occurs."
      ],
      "metadata": {
        "id": "MDwtKUYCUI4J"
      }
    },
    {
      "cell_type": "markdown",
      "source": [
        "9.What is the difference between multithreading and multiprocessing?"
      ],
      "metadata": {
        "id": "z3EhEEmhUUec"
      }
    },
    {
      "cell_type": "markdown",
      "source": [
        "Ans 9.\n",
        "1. Multithreading\n",
        "\n",
        ">>Uses multiple threads (smaller units of a process) within the same process.\n",
        "\n",
        ">>All threads share the same memory space.\n",
        "\n",
        ">>Good for I/O-bound tasks (waiting for input/output like file read/write, network requests).\n",
        "\n",
        ">>Limited by Python’s Global Interpreter Lock (GIL) → only one thread can execute Python bytecode at a time.\n",
        "\n",
        "2. Multiprocessing\n",
        "\n",
        ">>Uses multiple processes.\n",
        "\n",
        ">>Each process has its own memory space (independent of others).\n",
        "\n",
        ">>Can fully use multiple CPU cores (no GIL problem).\n",
        "\n",
        ">>Good for CPU-bound tasks (heavy computation like math, data processing)."
      ],
      "metadata": {
        "id": "K5gkYU9ZUgRC"
      }
    },
    {
      "cell_type": "markdown",
      "source": [
        "10.What are the advantages of using logging in a program?"
      ],
      "metadata": {
        "id": "_sEhP9aTVAxy"
      }
    },
    {
      "cell_type": "markdown",
      "source": [
        "Ans 10.\n",
        "A) Better than print()\n",
        "\n",
        "B) Different Log Levels\n",
        "\n",
        "C)Persistent Records\n",
        "\n",
        "D)Easier Debugging & Monitoring\n",
        "\n",
        "E)Flexibility & Control\n",
        "\n",
        "F)Improves Reliability"
      ],
      "metadata": {
        "id": "XjaZmEISVE0d"
      }
    },
    {
      "cell_type": "markdown",
      "source": [
        "11.What is memory management in Python?"
      ],
      "metadata": {
        "id": "nj1uUuRNV0PG"
      }
    },
    {
      "cell_type": "markdown",
      "source": [
        "Ans 11.\n",
        "Memory management is how Python allocates, manages, and frees memory for variables, objects, and data structures while a program runs.\n",
        "\n",
        "Python does this automatically, so developers don’t need to manage memory manually (unlike in C or C++)."
      ],
      "metadata": {
        "id": "ITWnYfEIV22j"
      }
    },
    {
      "cell_type": "markdown",
      "source": [
        "12.What are the basic steps involved in exception handling in Python?"
      ],
      "metadata": {
        "id": "lsGHL9K3WRx5"
      }
    },
    {
      "cell_type": "markdown",
      "source": [
        "Ans 12.\n",
        "try → Put risky code here.\n",
        "\n",
        "except → Handle specific or general exceptions.\n",
        "\n",
        "else (optional) → Runs if no error occurs.\n",
        "\n",
        "finally (optional) → Runs always, for cleanup."
      ],
      "metadata": {
        "id": "TsYn2JmtV9Sl"
      }
    },
    {
      "cell_type": "markdown",
      "source": [
        " 13.Why is memory management important in Python?"
      ],
      "metadata": {
        "id": "-Oxp7fO7WPOH"
      }
    },
    {
      "cell_type": "markdown",
      "source": [
        "Ans 13.\n",
        "Python is a high-level, interpreted language where objects are created dynamically. Efficient memory management ensures that programs run smoothly without wasting system resources.\n",
        "\n",
        "Prevents memory leaks.\n",
        "\n",
        "Optimizes performance.\n",
        "\n",
        "Ensures program stability.\n",
        "\n",
        "Simplifies development (no manual memory handling).\n",
        "\n",
        "Enables large-scale applications to run efficiently."
      ],
      "metadata": {
        "id": "l5Nr1eX4Wn6G"
      }
    },
    {
      "cell_type": "markdown",
      "source": [
        "14.What is the role of try and except in exception handling?"
      ],
      "metadata": {
        "id": "OaaKu6RKW5Ci"
      }
    },
    {
      "cell_type": "markdown",
      "source": [
        "Ans 14\n",
        "\n",
        "🔹 try Block\n",
        "\n",
        "The try block is used to wrap code that might cause an error.\n",
        "\n",
        "Python will monitor this block for exceptions while running.\n",
        "\n",
        "If no error occurs → the code runs normally.\n",
        "\n",
        "If an error occurs → Python jumps out of the try block and looks for an except block.\n",
        "\n",
        "\n",
        "🔹 except Block\n",
        "\n",
        "The except block is used to catch and handle the error that occurred in the try block.\n",
        "\n",
        "Prevents the program from crashing.\n",
        "\n",
        "Can be specific (handle one type of error) or generic (handle any error).\n"
      ],
      "metadata": {
        "id": "bIoOqm03XFNk"
      }
    },
    {
      "cell_type": "markdown",
      "source": [
        "15. How does Python's garbage collection system work?"
      ],
      "metadata": {
        "id": "TW52Te_XXXIG"
      }
    },
    {
      "cell_type": "markdown",
      "source": [
        "Ans 15\n",
        "\n",
        "Python’s garbage collection works using:\n",
        "\n",
        ">>Reference Counting → deletes objects when ref count = 0.\n",
        "\n",
        ">>Cyclic Garbage Collector → detects and cleans cycles of unreachable objects.\n",
        "\n",
        ">>Generational GC → improves efficiency by categorizing objects by age."
      ],
      "metadata": {
        "id": "GQBJaGr0XZ2_"
      }
    },
    {
      "cell_type": "markdown",
      "source": [
        "16.What is the purpose of the else block in exception handling?"
      ],
      "metadata": {
        "id": "nXRdqtYGXvld"
      }
    },
    {
      "cell_type": "markdown",
      "source": [
        "Ans 16.In Python, the else block in exception handling is used to define code that should run only if no exception occurs in the try block."
      ],
      "metadata": {
        "id": "E5w5_kxzX1w9"
      }
    },
    {
      "cell_type": "markdown",
      "source": [
        "17. What are the common logging levels in Python?"
      ],
      "metadata": {
        "id": "0vqwLe0DYC3E"
      }
    },
    {
      "cell_type": "markdown",
      "source": [
        "Ans 17.\n",
        "\n",
        "DEBUG → Detailed info (for developers).\n",
        "\n",
        "INFO → General updates (normal operation).\n",
        "\n",
        "WARNING → Something unexpected, but not fatal.\n",
        "\n",
        "ERROR → Problem occurred, program still running.\n",
        "\n",
        "CRITICAL → Severe error, program may crash."
      ],
      "metadata": {
        "id": "NKhr7czGYHuz"
      }
    },
    {
      "cell_type": "markdown",
      "source": [
        "18.What is the difference between os.fork() and multiprocessing in Python?\n"
      ],
      "metadata": {
        "id": "i0DvgYwoYZwm"
      }
    },
    {
      "cell_type": "markdown",
      "source": [
        "Ans 18\n",
        "\n",
        "🔹 1. os.fork()\n",
        "\n",
        "What it is: A low-level system call available on Unix/Linux (not Windows).\n",
        "\n",
        "How it works: It duplicates the current process into two:\n",
        "\n",
        "Parent process → gets child’s PID.\n",
        "\n",
        "Child process → gets 0.\n",
        "\n",
        "Programmer must manually handle communication, synchronization, and resource sharing.\n",
        "\n",
        "More error-prone but gives fine-grained control.\n",
        "\n",
        "\n",
        "🔹 2. multiprocessing module\n",
        "\n",
        "What it is: A high-level Python module that abstracts process creation.\n",
        "\n",
        "Works on both Unix/Linux and Windows.\n",
        "\n",
        "Uses os.fork() internally (on Unix) or other mechanisms (like spawn on Windows).\n",
        "\n",
        "Provides built-in support for:\n",
        "\n",
        "Process management (Process)\n",
        "\n",
        "Shared memory (Value, Array)\n",
        "\n",
        "Queues & Pipes (easy communication)\n",
        "\n",
        "Locks & Semaphores (synchronization)"
      ],
      "metadata": {
        "id": "hyrtstGvYoUj"
      }
    },
    {
      "cell_type": "markdown",
      "source": [
        "19. What is the importance of closing a file in Python?"
      ],
      "metadata": {
        "id": "i5FQx1gVY2iS"
      }
    },
    {
      "cell_type": "markdown",
      "source": [
        "Ans 19.\n",
        "\n",
        "Frees resources\n",
        "\n",
        "Ensures all data is saved\n",
        "\n",
        "Prevents corruption\n",
        "\n",
        "Makes code cleaner"
      ],
      "metadata": {
        "id": "27CagSwPZEDR"
      }
    },
    {
      "cell_type": "markdown",
      "source": [
        "20. What is the difference between file.read() and file.readline() in Python?"
      ],
      "metadata": {
        "id": "UhnUHnM4ZPmg"
      }
    },
    {
      "cell_type": "markdown",
      "source": [
        "Ans 20\n",
        "\n",
        "file.read() → Reads entire file (or given chars).\n",
        "\n",
        "file.readline() → Reads just one line at a time."
      ],
      "metadata": {
        "id": "fATH0U5UZXR-"
      }
    },
    {
      "cell_type": "markdown",
      "source": [
        "21. What is the logging module in Python used for?"
      ],
      "metadata": {
        "id": "rmK6VocwZi2B"
      }
    },
    {
      "cell_type": "markdown",
      "source": [
        "Ans 21.\n",
        "\n",
        "The logging module in Python is used to track events (messages) that happen when a program runs.\n",
        "\n",
        "Instead of using print() for debugging, logging provides a flexible and standardized way to record important information about the program’s execution."
      ],
      "metadata": {
        "id": "AOo0FjRxZo-_"
      }
    },
    {
      "cell_type": "markdown",
      "source": [
        "22.What is the os module in Python used for in file handling?"
      ],
      "metadata": {
        "id": "nXJ9wXY6ZrMO"
      }
    },
    {
      "cell_type": "markdown",
      "source": [
        "Ans 22.\n",
        "\n",
        "The os module in Python is used in file handling to:\n",
        "\n",
        "Navigate directories (getcwd, chdir, listdir)\n",
        "\n",
        "Create/remove folders (mkdir, rmdir)\n",
        "\n",
        "Work with files (rename, remove)\n",
        "\n",
        "Manage paths (path.exists, path.join, etc.)"
      ],
      "metadata": {
        "id": "XcbOtnN9aLSb"
      }
    },
    {
      "cell_type": "markdown",
      "source": [
        "23.What are the challenges associated with memory management in Python?"
      ],
      "metadata": {
        "id": "pJH8E17WacX4"
      }
    },
    {
      "cell_type": "markdown",
      "source": [
        "Ans 23.\n",
        "\n",
        "Memory leaks (circular references, unused references).\n",
        "\n",
        "High memory usage for large objects.\n",
        "\n",
        "Garbage collection overhead.\n",
        "\n",
        "Memory fragmentation.\n",
        "\n",
        "Hard-to-predict memory consumption.\n",
        "\n",
        "GIL limitations.\n",
        "\n",
        "External library leaks"
      ],
      "metadata": {
        "id": "i8zynYHsaevV"
      }
    },
    {
      "cell_type": "markdown",
      "source": [
        "24. How do you raise an exception manually in Python?"
      ],
      "metadata": {
        "id": "2KUxpAfdanhK"
      }
    },
    {
      "cell_type": "markdown",
      "source": [
        "Ans 24.Use raise to manually trigger exceptions.\n",
        "\n",
        "You can raise built-in exceptions (ValueError, TypeError, etc.) or custom ones."
      ],
      "metadata": {
        "id": "Kw3A8HK4aqO4"
      }
    },
    {
      "cell_type": "markdown",
      "source": [
        "25.Why is it important to use multithreading in certain applications?"
      ],
      "metadata": {
        "id": "_a3JgshXa6cd"
      }
    },
    {
      "cell_type": "markdown",
      "source": [
        "Ans 25.\n",
        "\n",
        "GUI applications (smooth user interaction)\n",
        "\n",
        "Web servers (handling multiple requests)\n",
        "\n",
        "File/network operations (downloads, uploads, scraping)\n",
        "\n",
        "Real-time apps (games, chat systems, video streaming)\n",
        "\n"
      ],
      "metadata": {
        "id": "-mfQ1Dm0bAua"
      }
    },
    {
      "cell_type": "markdown",
      "source": [
        "# Practical Questions"
      ],
      "metadata": {
        "id": "ql4Er4ZQbVVz"
      }
    },
    {
      "cell_type": "markdown",
      "source": [
        "1.How can you open a file for writing in Python and write a string to it?"
      ],
      "metadata": {
        "id": "dPZKUKOObcbS"
      }
    },
    {
      "cell_type": "code",
      "source": [
        "#Ans 1\n",
        "# Open file in write mode\n",
        "file = open(\"example.txt\", \"w\")\n",
        "\n",
        "# Write a string to the file\n",
        "file.write(\"Hello, this is a test string.\")\n",
        "\n",
        "# Always close the file\n",
        "file.close()\n"
      ],
      "metadata": {
        "id": "O7QDy1i5bhz_"
      },
      "execution_count": 2,
      "outputs": []
    },
    {
      "cell_type": "markdown",
      "source": [
        "2.Write a Python program to read the contents of a file and print each line?"
      ],
      "metadata": {
        "id": "z2vyALYobwRd"
      }
    },
    {
      "cell_type": "code",
      "source": [
        "#Ans 2\n",
        "with open(\"example.txt\", \"r\") as file:\n",
        "    contents = file.read()\n",
        "    print(contents)\n"
      ],
      "metadata": {
        "colab": {
          "base_uri": "https://localhost:8080/"
        },
        "id": "Sc3ob1cVb_hR",
        "outputId": "46380a52-d7eb-4199-be7d-a4041201e935"
      },
      "execution_count": 3,
      "outputs": [
        {
          "output_type": "stream",
          "name": "stdout",
          "text": [
            "Hello, this is a test string.\n"
          ]
        }
      ]
    },
    {
      "cell_type": "markdown",
      "source": [
        "3. How would you handle a case where the file doesn't exist while trying to open it for reading?"
      ],
      "metadata": {
        "id": "RhTjJmSXb-2G"
      }
    },
    {
      "cell_type": "code",
      "source": [
        "#Ans 3\n",
        "try:\n",
        "    with open(\"example.txt\", \"r\") as file:\n",
        "        for line in file:\n",
        "            print(line.strip())\n",
        "except FileNotFoundError:\n",
        "    print(\"Error: The file does not exist.\")\n",
        "\n",
        "#if the file was not there then the except bolck will run\n"
      ],
      "metadata": {
        "colab": {
          "base_uri": "https://localhost:8080/"
        },
        "id": "T7jkrnC6cYiq",
        "outputId": "7c6cee04-fdd7-4d9f-fa91-6e6c6dc53527"
      },
      "execution_count": 4,
      "outputs": [
        {
          "output_type": "stream",
          "name": "stdout",
          "text": [
            "Hello, this is a test string.\n"
          ]
        }
      ]
    },
    {
      "cell_type": "markdown",
      "source": [
        "4.  Write a Python script that reads from one file and writes its content to another file?"
      ],
      "metadata": {
        "id": "DrX5ThjCcd5D"
      }
    },
    {
      "cell_type": "code",
      "source": [
        "#Ans 4\n",
        "try:\n",
        "    with open(\"source.txt\", \"r\") as src, open(\"destination.txt\", \"w\") as dest:\n",
        "        dest.write(src.read())\n",
        "    print(\"File copied successfully!\")\n",
        "except FileNotFoundError:\n",
        "    print(\"Source file not found.\")\n"
      ],
      "metadata": {
        "colab": {
          "base_uri": "https://localhost:8080/"
        },
        "id": "hlSOcr3Pc9pl",
        "outputId": "ef46c15b-61b6-4c3e-8196-e94b08d844e4"
      },
      "execution_count": 5,
      "outputs": [
        {
          "output_type": "stream",
          "name": "stdout",
          "text": [
            "Source file not found.\n"
          ]
        }
      ]
    },
    {
      "cell_type": "markdown",
      "source": [
        "5. How would you catch and handle division by zero error in Python?"
      ],
      "metadata": {
        "id": "IQ08qYr5dEwn"
      }
    },
    {
      "cell_type": "code",
      "source": [
        "#Ans 5\n",
        "try:\n",
        "    num = 10\n",
        "    denom = 0\n",
        "    result = num / denom\n",
        "    print(\"Result:\", result)\n",
        "\n",
        "except ZeroDivisionError:\n",
        "    print(\"Error: Division by zero is not allowed.\")\n"
      ],
      "metadata": {
        "colab": {
          "base_uri": "https://localhost:8080/"
        },
        "id": "EXzLnsuSdK_m",
        "outputId": "5c6796c7-7652-49aa-a232-74ad0f2ba3a0"
      },
      "execution_count": 6,
      "outputs": [
        {
          "output_type": "stream",
          "name": "stdout",
          "text": [
            "Error: Division by zero is not allowed.\n"
          ]
        }
      ]
    },
    {
      "cell_type": "markdown",
      "source": [
        "6.Write a Python program that logs an error message to a log file when a division by zero exception occurs."
      ],
      "metadata": {
        "id": "HMkLwnW-dVxc"
      }
    },
    {
      "cell_type": "code",
      "source": [
        "#Ans 6\n",
        "import logging\n",
        "\n",
        "# Configure logging to write messages to a file\n",
        "logging.basicConfig(\n",
        "    filename=\"app.log\",           # log file name\n",
        "    level=logging.ERROR,          # only log errors and above\n",
        "    format=\"%(asctime)s - %(levelname)s - %(message)s\"\n",
        ")\n",
        "\n",
        "try:\n",
        "    num = 10\n",
        "    denom = 0\n",
        "    result = num / denom\n",
        "    print(\"Result:\", result)\n",
        "\n",
        "except ZeroDivisionError as e:\n",
        "    logging.error(\"Division by zero error occurred: %s\", e)\n",
        "    print(\"An error occurred. Please check the log file (app.log).\")\n"
      ],
      "metadata": {
        "colab": {
          "base_uri": "https://localhost:8080/"
        },
        "id": "kBElbicUdqVL",
        "outputId": "163c16ae-7e60-47a5-b198-d41496f78c9d"
      },
      "execution_count": 7,
      "outputs": [
        {
          "output_type": "stream",
          "name": "stderr",
          "text": [
            "ERROR:root:Division by zero error occurred: division by zero\n"
          ]
        },
        {
          "output_type": "stream",
          "name": "stdout",
          "text": [
            "An error occurred. Please check the log file (app.log).\n"
          ]
        }
      ]
    },
    {
      "cell_type": "markdown",
      "source": [
        "7.How do you log information at different levels (INFO, ERROR, WARNING) in Python using the logging module?"
      ],
      "metadata": {
        "id": "fihAlrUoeDlS"
      }
    },
    {
      "cell_type": "code",
      "source": [
        "#Ans 7\n",
        "import logging\n",
        "\n",
        "# Configure logging\n",
        "logging.basicConfig(\n",
        "    filename=\"app.log\",           # log file\n",
        "    level=logging.DEBUG,          # capture all levels (DEBUG and above)\n",
        "    format=\"%(asctime)s - %(levelname)s - %(message)s\"\n",
        ")\n",
        "\n",
        "# Log messages at different levels\n",
        "logging.debug(\"This is a DEBUG message (useful for developers).\")\n",
        "logging.info(\"This is an INFO message (general info about program).\")\n",
        "logging.warning(\"This is a WARNING message (something unexpected).\")\n",
        "logging.error(\"This is an ERROR message (something went wrong).\")\n",
        "logging.critical(\"This is a CRITICAL message (serious error).\")\n"
      ],
      "metadata": {
        "colab": {
          "base_uri": "https://localhost:8080/"
        },
        "id": "s53DIXEGeP8p",
        "outputId": "f252d29a-8da7-4d9f-c5ef-42ab2d5944f4"
      },
      "execution_count": 8,
      "outputs": [
        {
          "output_type": "stream",
          "name": "stderr",
          "text": [
            "WARNING:root:This is a WARNING message (something unexpected).\n",
            "ERROR:root:This is an ERROR message (something went wrong).\n",
            "CRITICAL:root:This is a CRITICAL message (serious error).\n"
          ]
        }
      ]
    },
    {
      "cell_type": "markdown",
      "source": [
        "8.Write a program to handle a file opening error using exception handling?"
      ],
      "metadata": {
        "id": "P_A5VcxOejx_"
      }
    },
    {
      "cell_type": "code",
      "source": [
        "#Ans 8\n",
        "try:\n",
        "    # Trying to open a file that may not exist\n",
        "    with open(\"data.txt\", \"r\") as file:\n",
        "        content = file.read()\n",
        "        print(\"File contents:\\n\", content)\n",
        "\n",
        "except FileNotFoundError:\n",
        "    print(\"Error: The file does not exist.\")\n",
        "\n",
        "except PermissionError:\n",
        "    print(\"Error: You don’t have permission to open this file.\")\n",
        "\n",
        "except Exception as e:\n",
        "    print(\"An unexpected error occurred:\", e)\n"
      ],
      "metadata": {
        "colab": {
          "base_uri": "https://localhost:8080/"
        },
        "id": "c3M2SQ4jeosT",
        "outputId": "cef1afa3-f246-4ff7-acf3-d34a8551f50c"
      },
      "execution_count": 9,
      "outputs": [
        {
          "output_type": "stream",
          "name": "stdout",
          "text": [
            "Error: The file does not exist.\n"
          ]
        }
      ]
    },
    {
      "cell_type": "markdown",
      "source": [
        "9.How can you read a file line by line and store its content in a list in Python?"
      ],
      "metadata": {
        "id": "lqgvLvKDfBWn"
      }
    },
    {
      "cell_type": "code",
      "source": [
        "#Ans 9\n",
        "# Step 1: Write content to a file using \"w\" mode\n",
        "with open(\"data.txt\", \"w\") as file:\n",
        "    file.write(\"Hello World\\n\")\n",
        "    file.write(\"This is Python\\n\")\n",
        "    file.write(\"File handling is easy!\\n\")\n",
        "\n",
        "\n",
        "with open(\"data.txt\", \"r\") as file:\n",
        "    line = file.readline()   # read first line\n",
        "\n",
        "print(line)"
      ],
      "metadata": {
        "colab": {
          "base_uri": "https://localhost:8080/"
        },
        "id": "v4GhnbVJfsfb",
        "outputId": "83652102-83d8-41e0-f22b-e455fb726ae3"
      },
      "execution_count": 14,
      "outputs": [
        {
          "output_type": "stream",
          "name": "stdout",
          "text": [
            "Hello World\n",
            "\n"
          ]
        }
      ]
    },
    {
      "cell_type": "markdown",
      "source": [
        "10.  How can you append data to an existing file in Python?"
      ],
      "metadata": {
        "id": "77HLmM3QgV96"
      }
    },
    {
      "cell_type": "code",
      "source": [
        "#Ans 10\n",
        "# Append new content to the file\n",
        "with open(\"data.txt\", \"a\") as file:\n",
        "    file.write(\"Adding a new line at the end.\\n\")"
      ],
      "metadata": {
        "id": "xI-od3xHgVMl"
      },
      "execution_count": 15,
      "outputs": []
    },
    {
      "cell_type": "markdown",
      "source": [
        "11. Write a Python program that uses a try-except block to handle an error when attempting to access a\n",
        "dictionary key that doesn't exist"
      ],
      "metadata": {
        "id": "WEk-JYcmguSo"
      }
    },
    {
      "cell_type": "code",
      "source": [
        "#Ans 11\n",
        "# Sample dictionary\n",
        "student = {\n",
        "    \"name\": \"Vishal\",\n",
        "    \"age\": 22,\n",
        "    \"course\": \"Data Analysis\"\n",
        "}\n",
        "\n",
        "try:\n",
        "    print(\"Student's grade:\", student[\"grade\"])\n",
        "except KeyError:\n",
        "    print(\"Error: The key 'grade' does not exist in the dictionary.\")\n"
      ],
      "metadata": {
        "colab": {
          "base_uri": "https://localhost:8080/"
        },
        "id": "Xhs_u1cWhA8b",
        "outputId": "a1b4b3f2-90c1-4a57-b75e-22774dddaa0c"
      },
      "execution_count": 16,
      "outputs": [
        {
          "output_type": "stream",
          "name": "stdout",
          "text": [
            "Error: The key 'grade' does not exist in the dictionary.\n"
          ]
        }
      ]
    },
    {
      "cell_type": "markdown",
      "source": [
        "12.  Write a program that demonstrates using multiple except blocks to handle different types of exceptions."
      ],
      "metadata": {
        "id": "oAC6B_oVhSw-"
      }
    },
    {
      "cell_type": "code",
      "source": [
        "#Ans 12\n",
        "try:\n",
        "    # Example: risky operations\n",
        "    num = int(input(\"Enter a number: \"))\n",
        "    result = 10 / num\n",
        "    print(\"Result:\", result)\n",
        "\n",
        "    my_list = [1, 2, 3]\n",
        "    print(my_list[5])\n",
        "\n",
        "except ValueError:\n",
        "    print(\"Error: You must enter a valid integer.\")\n",
        "\n",
        "except ZeroDivisionError:\n",
        "    print(\"Error: Division by zero is not allowed.\")\n",
        "\n",
        "except IndexError:\n",
        "    print(\"Error: List index out of range.\")\n",
        "\n",
        "except Exception as e:   # generic catch for unexpected errors\n",
        "    print(\"An unexpected error occurred:\", e)\n"
      ],
      "metadata": {
        "colab": {
          "base_uri": "https://localhost:8080/"
        },
        "id": "QIk1TurNhSE4",
        "outputId": "844e4392-f6a0-42d7-816f-c09ca1b1a989"
      },
      "execution_count": 17,
      "outputs": [
        {
          "output_type": "stream",
          "name": "stdout",
          "text": [
            "Enter a number: acb\n",
            "Error: You must enter a valid integer.\n"
          ]
        }
      ]
    },
    {
      "cell_type": "markdown",
      "source": [
        "13.  How would you check if a file exists before attempting to read it in Python?"
      ],
      "metadata": {
        "id": "9nXej1-RhsnN"
      }
    },
    {
      "cell_type": "code",
      "source": [
        "#Ans 13.\n",
        "import os\n",
        "\n",
        "filename = \"data.txt\"\n",
        "\n",
        "if os.path.exists(filename):\n",
        "    with open(filename, \"r\") as file:\n",
        "        print(file.read())\n",
        "else:\n",
        "    print(f\"Error: The file '{filename}' does not exist.\")\n"
      ],
      "metadata": {
        "colab": {
          "base_uri": "https://localhost:8080/"
        },
        "id": "GqaXKU3XhIU0",
        "outputId": "362becfc-985f-4b88-9eb9-1eedb85696b5"
      },
      "execution_count": 18,
      "outputs": [
        {
          "output_type": "stream",
          "name": "stdout",
          "text": [
            "Hello World\n",
            "This is Python\n",
            "File handling is easy!\n",
            "Adding a new line at the end.\n",
            "\n"
          ]
        }
      ]
    },
    {
      "cell_type": "markdown",
      "source": [
        "14.  Write a program that uses the logging module to log both informational and error messages"
      ],
      "metadata": {
        "id": "5L2RDOlpiH5c"
      }
    },
    {
      "cell_type": "code",
      "source": [
        "#Ans 14\n",
        "import logging\n",
        "\n",
        "# Configure logging\n",
        "logging.basicConfig(\n",
        "    filename=\"app.log\",              # log file name\n",
        "    level=logging.DEBUG,             # capture all logs (DEBUG and above)\n",
        "    format=\"%(asctime)s - %(levelname)s - %(message)s\"\n",
        ")\n",
        "\n",
        "# Log an informational message\n",
        "logging.info(\"Program started successfully.\")\n",
        "\n",
        "try:\n",
        "    num1 = 10\n",
        "    num2 = 0\n",
        "    result = num1 / num2   # This will cause ZeroDivisionError\n",
        "    logging.info(f\"Division result: {result}\")\n",
        "\n",
        "except ZeroDivisionError:\n",
        "    logging.error(\"Error: Attempted division by zero.\")\n",
        "\n",
        "logging.info(\"Program finished.\")\n"
      ],
      "metadata": {
        "colab": {
          "base_uri": "https://localhost:8080/"
        },
        "id": "JJ_aNp4iiSPZ",
        "outputId": "def2d9db-e1cc-4644-c078-7c2ca1f19759"
      },
      "execution_count": 19,
      "outputs": [
        {
          "output_type": "stream",
          "name": "stderr",
          "text": [
            "ERROR:root:Error: Attempted division by zero.\n"
          ]
        }
      ]
    },
    {
      "cell_type": "markdown",
      "source": [
        "15. Write a Python program that prints the content of a file and handles the case when the file is empty?"
      ],
      "metadata": {
        "id": "KJFC2WNCihSc"
      }
    },
    {
      "cell_type": "code",
      "source": [
        "#Ans 15\n",
        "import os\n",
        "\n",
        "filename = \"sample.txt\"\n",
        "\n",
        "try:\n",
        "    if os.path.exists(filename):   # Check if file exists\n",
        "        with open(filename, \"r\") as file:\n",
        "            content = file.read()\n",
        "            if content:   # Check if file is not empty\n",
        "                print(\"File Content:\\n\")\n",
        "                print(content)\n",
        "            else:\n",
        "                print(\"The file is empty.\")\n",
        "    else:\n",
        "        print(f\"Error: The file '{filename}' does not exist.\")\n",
        "\n",
        "except Exception as e:\n",
        "    print(\"An unexpected error occurred:\", e)\n"
      ],
      "metadata": {
        "colab": {
          "base_uri": "https://localhost:8080/"
        },
        "id": "boxPHPCNimIm",
        "outputId": "5b193e56-4703-4502-f575-8079ef1cae58"
      },
      "execution_count": 20,
      "outputs": [
        {
          "output_type": "stream",
          "name": "stdout",
          "text": [
            "Error: The file 'sample.txt' does not exist.\n"
          ]
        }
      ]
    },
    {
      "cell_type": "markdown",
      "source": [
        "17.Write a Python program to create and write a list of numbers to a file, one number per line"
      ],
      "metadata": {
        "id": "dKqW0nC1jDgz"
      }
    },
    {
      "cell_type": "code",
      "source": [
        "#Ans 17\n",
        "numbers = [1, 2, 3, 4, 5, 6, 7, 8, 9, 10]\n",
        "\n",
        "# Open a file in write mode\n",
        "with open(\"numbers.txt\", \"w\") as file:\n",
        "    for num in numbers:\n",
        "        file.write(str(num) + \"\\n\")   # Write each number on a new line\n",
        "\n"
      ],
      "metadata": {
        "id": "q6h5iW6Oi8C6"
      },
      "execution_count": 21,
      "outputs": []
    },
    {
      "cell_type": "markdown",
      "source": [
        "19.Write a program that handles both IndexError and KeyError using a try-except block?"
      ],
      "metadata": {
        "id": "T4wuwh6Ejyb9"
      }
    },
    {
      "cell_type": "code",
      "source": [
        "#Ans 19\n",
        "# Example list and dictionary\n",
        "my_list = [10, 20, 30]\n",
        "my_dict = {\"a\": 1, \"b\": 2}\n",
        "\n",
        "try:\n",
        "    # Intentionally cause IndexError\n",
        "    print(\"List item:\", my_list[5])\n",
        "\n",
        "    # Intentionally cause KeyError\n",
        "    print(\"Dictionary value:\", my_dict[\"z\"])\n",
        "\n",
        "except IndexError as e:\n",
        "    print(\"IndexError occurred:\", e)\n",
        "\n",
        "except KeyError as e:\n",
        "    print(\"KeyError occurred:\", e)\n",
        "\n",
        "except Exception as e:\n",
        "    print(\"Some other error occurred:\", e)\n",
        "\n",
        "print(\"Program continues after exception handling...\")\n"
      ],
      "metadata": {
        "colab": {
          "base_uri": "https://localhost:8080/"
        },
        "id": "5kFh0Utej4pc",
        "outputId": "2ca80005-548b-4330-ab40-edce56e9408e"
      },
      "execution_count": 22,
      "outputs": [
        {
          "output_type": "stream",
          "name": "stdout",
          "text": [
            "IndexError occurred: list index out of range\n",
            "Program continues after exception handling...\n"
          ]
        }
      ]
    },
    {
      "cell_type": "markdown",
      "source": [
        "20.  How would you open a file and read its contents using a context manager in Python?"
      ],
      "metadata": {
        "id": "zHkOl7QrkFvV"
      }
    },
    {
      "cell_type": "code",
      "source": [
        "#Ans 20.\n",
        "try:\n",
        "    with open(\"example.txt\", \"r\") as file:\n",
        "        contents = file.read()\n",
        "        print(\"File Contents:\\n\", contents)\n",
        "except FileNotFoundError:\n",
        "    print(\"The file does not exist.\")\n"
      ],
      "metadata": {
        "colab": {
          "base_uri": "https://localhost:8080/"
        },
        "id": "vw6sg5lOkOTx",
        "outputId": "80d64283-f60d-4915-9925-e7ef1a143e6c"
      },
      "execution_count": 23,
      "outputs": [
        {
          "output_type": "stream",
          "name": "stdout",
          "text": [
            "File Contents:\n",
            " Hello, this is a test string.\n"
          ]
        }
      ]
    },
    {
      "cell_type": "markdown",
      "source": [
        "21.  Write a Python program that reads a file and prints the number of occurrences of a specific word."
      ],
      "metadata": {
        "id": "cldQi1MgkiDO"
      }
    },
    {
      "cell_type": "code",
      "source": [
        "#Ans 21\n",
        "def count_word_occurrences(filename, word):\n",
        "    try:\n",
        "        with open(filename, \"r\") as file:\n",
        "            text = file.read().lower()\n",
        "            count = text.split().count(word.lower())\n",
        "            return count\n",
        "    except FileNotFoundError:\n",
        "        print(\"The file does not exist.\")\n",
        "        return None\n",
        "\n",
        "\n",
        "# Example usage\n",
        "filename = \"example.txt\"\n",
        "word_to_search = \"python\"\n",
        "\n",
        "occurrences = count_word_occurrences(filename, word_to_search)\n",
        "if occurrences is not None:\n",
        "    print(f\"The word '{word_to_search}' occurs {occurrences} times in {filename}.\")\n"
      ],
      "metadata": {
        "colab": {
          "base_uri": "https://localhost:8080/"
        },
        "id": "Oi4AYs_bkI9H",
        "outputId": "60b7634b-a2f7-4160-e119-0e1c0d0fa2b3"
      },
      "execution_count": 24,
      "outputs": [
        {
          "output_type": "stream",
          "name": "stdout",
          "text": [
            "The word 'python' occurs 0 times in example.txt.\n"
          ]
        }
      ]
    },
    {
      "cell_type": "markdown",
      "source": [
        "22.  How can you check if a file is empty before attempting to read its contents?"
      ],
      "metadata": {
        "id": "XBAKbOzokzhh"
      }
    },
    {
      "cell_type": "code",
      "source": [
        "#Ans 22\n",
        "import os\n",
        "\n",
        "filename = \"example.txt\"\n",
        "\n",
        "if os.path.exists(filename) and os.path.getsize(filename) == 0:\n",
        "    print(\"The file is empty.\")\n",
        "else:\n",
        "    with open(filename, \"r\") as file:\n",
        "        contents = file.read()\n",
        "        print(\"File contents:\\n\", contents)\n"
      ],
      "metadata": {
        "colab": {
          "base_uri": "https://localhost:8080/"
        },
        "id": "SHt6VS5ok2A-",
        "outputId": "87913a76-182f-416f-aaef-8543a39e72df"
      },
      "execution_count": 25,
      "outputs": [
        {
          "output_type": "stream",
          "name": "stdout",
          "text": [
            "File contents:\n",
            " Hello, this is a test string.\n"
          ]
        }
      ]
    },
    {
      "cell_type": "markdown",
      "source": [
        "23 . Write a Python program that writes to a log file when an error occurs during file handling."
      ],
      "metadata": {
        "id": "jiDFOC59lDQp"
      }
    },
    {
      "cell_type": "code",
      "source": [
        "#Ans 23\n",
        "import logging\n",
        "\n",
        "# Configure logging\n",
        "logging.basicConfig(\n",
        "    filename=\"file_errors.log\",\n",
        "    level=logging.ERROR,\n",
        "    format=\"%(asctime)s - %(levelname)s - %(message)s\"\n",
        ")\n",
        "\n",
        "def read_file(filename):\n",
        "    try:\n",
        "        with open(filename, \"r\") as file:\n",
        "            contents = file.read()\n",
        "            print(\"File contents:\\n\", contents)\n",
        "    except FileNotFoundError as e:\n",
        "        print(\"Error: File not found.\")\n",
        "        logging.error(f\"File not found: {filename} | Exception: {e}\")\n",
        "    except PermissionError as e:\n",
        "        print(\"Error: Permission denied.\")\n",
        "        logging.error(f\"Permission denied for file: {filename} | Exception: {e}\")\n",
        "    except Exception as e:\n",
        "        print(\"An unexpected error occurred.\")\n",
        "        logging.error(f\"Unexpected error with file {filename} | Exception: {e}\")\n",
        "\n",
        "\n",
        "# Example usage\n",
        "read_file(\"non_existing_file.txt\")\n"
      ],
      "metadata": {
        "colab": {
          "base_uri": "https://localhost:8080/"
        },
        "id": "kpTG5GTSlIF9",
        "outputId": "3a378c1b-1077-4630-92cd-21edcc671b3e"
      },
      "execution_count": 26,
      "outputs": [
        {
          "output_type": "stream",
          "name": "stderr",
          "text": [
            "ERROR:root:File not found: non_existing_file.txt | Exception: [Errno 2] No such file or directory: 'non_existing_file.txt'\n"
          ]
        },
        {
          "output_type": "stream",
          "name": "stdout",
          "text": [
            "Error: File not found.\n"
          ]
        }
      ]
    }
  ]
}